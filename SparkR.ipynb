{
  "nbformat": 4,
  "nbformat_minor": 0,
  "metadata": {
    "colab": {
      "provenance": []
    },
    "kernelspec": {
      "name": "ir",
      "display_name": "R"
    },
    "language_info": {
      "name": "R"
    }
  },
  "cells": [
    {
      "cell_type": "code",
      "source": [
        "# Download Java Virtual Machine (JVM)\n",
        "system(\"apt-get install openjdk-8-jdk-headless -qq > /dev/null\")\n",
        "\n",
        "# Download Spark\n",
        "system(\"wget -q https://dlcdn.apache.org/spark/spark-3.4.2/spark-3.4.2-bin-hadoop3.tgz\")\n",
        "\n",
        "# Unzip the file\n",
        "system(\"tar -xzf spark-3.4.2-bin-hadoop3.tgz\")\n",
        "\n",
        "# setup the environment for spark\n",
        "Sys.setenv(JAVA_HOME = \"/usr/lib/jvm/java-8-openjdk-amd64\")\n",
        "Sys.setenv(SPARK_HOME = \"/content/spark-3.4.2-bin-hadoop3\")\n",
        "\n",
        "install.packages(\"sparklyr\")\n",
        "\n",
        "install.packages(\"arrow\") # optional but recommended for speed boosts"
      ],
      "metadata": {
        "colab": {
          "base_uri": "https://localhost:8080/"
        },
        "id": "BoxMi-VjBFq7",
        "outputId": "fc484fd6-bb90-4f5a-a628-e8250d90fd15"
      },
      "execution_count": null,
      "outputs": [
        {
          "output_type": "stream",
          "name": "stderr",
          "text": [
            "Installing package into ‘/usr/local/lib/R/site-library’\n",
            "(as ‘lib’ is unspecified)\n",
            "\n",
            "also installing the dependencies ‘config’, ‘globals’\n",
            "\n",
            "\n",
            "Installing package into ‘/usr/local/lib/R/site-library’\n",
            "(as ‘lib’ is unspecified)\n",
            "\n",
            "also installing the dependency ‘assertthat’\n",
            "\n",
            "\n"
          ]
        }
      ]
    },
    {
      "cell_type": "code",
      "source": [
        "library(SparkR, lib.loc = c(file.path(Sys.getenv(\"SPARK_HOME\"), \"R\", \"lib\")))\n",
        "sparkR.session(master = \"local[*]\", sparkConfig = list(spark.driver.memory = \"2g\"))"
      ],
      "metadata": {
        "colab": {
          "base_uri": "https://localhost:8080/",
          "height": 360
        },
        "id": "pnWhGDNQGavh",
        "outputId": "0e5c47c8-1c26-4a3f-afce-5e6bdb09d4c6"
      },
      "execution_count": null,
      "outputs": [
        {
          "output_type": "stream",
          "name": "stderr",
          "text": [
            "\n",
            "Attaching package: ‘SparkR’\n",
            "\n",
            "\n",
            "The following objects are masked from ‘package:stats’:\n",
            "\n",
            "    cov, filter, lag, na.omit, predict, sd, var, window\n",
            "\n",
            "\n",
            "The following objects are masked from ‘package:base’:\n",
            "\n",
            "    as.data.frame, colnames, colnames<-, drop, endsWith, intersect,\n",
            "    rank, rbind, sample, startsWith, subset, summary, transform, union\n",
            "\n",
            "\n",
            "Spark package found in SPARK_HOME: /content/spark-3.4.2-bin-hadoop3\n",
            "\n"
          ]
        },
        {
          "output_type": "stream",
          "name": "stdout",
          "text": [
            "Launching java with spark-submit command /content/spark-3.4.2-bin-hadoop3/bin/spark-submit   --driver-memory \"2g\" sparkr-shell /tmp/RtmpD1md7M/backend_portd1332a28fe \n"
          ]
        },
        {
          "output_type": "display_data",
          "data": {
            "text/plain": [
              "Java ref type org.apache.spark.sql.SparkSession id 1 "
            ]
          },
          "metadata": {}
        }
      ]
    },
    {
      "cell_type": "code",
      "source": [
        "c(file.path(Sys.getenv(\"SPARK_HOME\"), \"R\", \"lib\"))"
      ],
      "metadata": {
        "colab": {
          "base_uri": "https://localhost:8080/",
          "height": 34
        },
        "id": "Jq8tGPnqGjK5",
        "outputId": "b78d7ea2-c134-4233-f61b-8b6f8d8964ae"
      },
      "execution_count": null,
      "outputs": [
        {
          "output_type": "display_data",
          "data": {
            "text/html": [
              "'/content/spark-3.4.2-bin-hadoop3/R/lib'"
            ],
            "text/markdown": "'/content/spark-3.4.2-bin-hadoop3/R/lib'",
            "text/latex": "'/content/spark-3.4.2-bin-hadoop3/R/lib'",
            "text/plain": [
              "[1] \"/content/spark-3.4.2-bin-hadoop3/R/lib\""
            ]
          },
          "metadata": {}
        }
      ]
    },
    {
      "cell_type": "code",
      "source": [
        "library(sparklyr)\n",
        "\n",
        "sc <- spark_connect(master = \"local\")\n",
        "\n",
        "tbl_mtcars <- copy_to(sc, mtcars, \"spark_mtcars\")"
      ],
      "metadata": {
        "id": "TFPVLgmFHMmG",
        "colab": {
          "base_uri": "https://localhost:8080/"
        },
        "outputId": "9e7a0ce3-0da0-4400-a810-58122f893d4a"
      },
      "execution_count": null,
      "outputs": [
        {
          "output_type": "stream",
          "name": "stderr",
          "text": [
            "\n",
            "Attaching package: ‘sparklyr’\n",
            "\n",
            "\n",
            "The following objects are masked from ‘package:SparkR’:\n",
            "\n",
            "    collect, distinct, filter, mutate, select\n",
            "\n",
            "\n",
            "The following object is masked from ‘package:stats’:\n",
            "\n",
            "    filter\n",
            "\n",
            "\n"
          ]
        }
      ]
    },
    {
      "cell_type": "code",
      "source": [
        "tbl_mtcars"
      ],
      "metadata": {
        "colab": {
          "base_uri": "https://localhost:8080/",
          "height": 255
        },
        "id": "EGBaszJOSPTh",
        "outputId": "2bdb2ef5-eeb8-4322-d171-fb70143adf6a"
      },
      "execution_count": null,
      "outputs": [
        {
          "output_type": "display_data",
          "data": {
            "text/plain": [
              "\u001b[90m# Source: spark<spark_mtcars> [?? x 11]\u001b[39m\n",
              "     mpg   cyl  disp    hp  drat    wt  qsec    vs    am  gear  carb\n",
              "   \u001b[3m\u001b[90m<dbl>\u001b[39m\u001b[23m \u001b[3m\u001b[90m<dbl>\u001b[39m\u001b[23m \u001b[3m\u001b[90m<dbl>\u001b[39m\u001b[23m \u001b[3m\u001b[90m<dbl>\u001b[39m\u001b[23m \u001b[3m\u001b[90m<dbl>\u001b[39m\u001b[23m \u001b[3m\u001b[90m<dbl>\u001b[39m\u001b[23m \u001b[3m\u001b[90m<dbl>\u001b[39m\u001b[23m \u001b[3m\u001b[90m<dbl>\u001b[39m\u001b[23m \u001b[3m\u001b[90m<dbl>\u001b[39m\u001b[23m \u001b[3m\u001b[90m<dbl>\u001b[39m\u001b[23m \u001b[3m\u001b[90m<dbl>\u001b[39m\u001b[23m\n",
              "\u001b[90m 1\u001b[39m  21       6  160    110  3.9   2.62  16.5     0     1     4     4\n",
              "\u001b[90m 2\u001b[39m  21       6  160    110  3.9   2.88  17.0     0     1     4     4\n",
              "\u001b[90m 3\u001b[39m  22.8     4  108     93  3.85  2.32  18.6     1     1     4     1\n",
              "\u001b[90m 4\u001b[39m  21.4     6  258    110  3.08  3.22  19.4     1     0     3     1\n",
              "\u001b[90m 5\u001b[39m  18.7     8  360    175  3.15  3.44  17.0     0     0     3     2\n",
              "\u001b[90m 6\u001b[39m  18.1     6  225    105  2.76  3.46  20.2     1     0     3     1\n",
              "\u001b[90m 7\u001b[39m  14.3     8  360    245  3.21  3.57  15.8     0     0     3     4\n",
              "\u001b[90m 8\u001b[39m  24.4     4  147.    62  3.69  3.19  20       1     0     4     2\n",
              "\u001b[90m 9\u001b[39m  22.8     4  141.    95  3.92  3.15  22.9     1     0     4     2\n",
              "\u001b[90m10\u001b[39m  19.2     6  168.   123  3.92  3.44  18.3     1     0     4     4\n",
              "\u001b[90m# ℹ more rows\u001b[39m"
            ]
          },
          "metadata": {}
        }
      ]
    },
    {
      "cell_type": "code",
      "source": [],
      "metadata": {
        "id": "_T5WiwrZSoMR"
      },
      "execution_count": null,
      "outputs": []
    }
  ]
}