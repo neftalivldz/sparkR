{
  "nbformat": 4,
  "nbformat_minor": 0,
  "metadata": {
    "colab": {
      "provenance": []
    },
    "kernelspec": {
      "name": "ir",
      "display_name": "R"
    },
    "language_info": {
      "name": "R"
    }
  },
  "cells": [
    {
      "cell_type": "code",
      "execution_count": 1,
      "metadata": {
        "colab": {
          "base_uri": "https://localhost:8080/"
        },
        "id": "Jg9OsCSc_JJG",
        "outputId": "9cfc3c60-846e-41a0-dcb8-94fa369f336a"
      },
      "outputs": [
        {
          "output_type": "stream",
          "name": "stderr",
          "text": [
            "── \u001b[1mAttaching core tidyverse packages\u001b[22m ──────────────────────── tidyverse 2.0.0 ──\n",
            "\u001b[32m✔\u001b[39m \u001b[34mdplyr    \u001b[39m 1.1.4     \u001b[32m✔\u001b[39m \u001b[34mreadr    \u001b[39m 2.1.5\n",
            "\u001b[32m✔\u001b[39m \u001b[34mforcats  \u001b[39m 1.0.0     \u001b[32m✔\u001b[39m \u001b[34mstringr  \u001b[39m 1.5.1\n",
            "\u001b[32m✔\u001b[39m \u001b[34mggplot2  \u001b[39m 3.4.4     \u001b[32m✔\u001b[39m \u001b[34mtibble   \u001b[39m 3.2.1\n",
            "\u001b[32m✔\u001b[39m \u001b[34mlubridate\u001b[39m 1.9.3     \u001b[32m✔\u001b[39m \u001b[34mtidyr    \u001b[39m 1.3.1\n",
            "\u001b[32m✔\u001b[39m \u001b[34mpurrr    \u001b[39m 1.0.2     \n",
            "── \u001b[1mConflicts\u001b[22m ────────────────────────────────────────── tidyverse_conflicts() ──\n",
            "\u001b[31m✖\u001b[39m \u001b[34mdplyr\u001b[39m::\u001b[32mfilter()\u001b[39m masks \u001b[34mstats\u001b[39m::filter()\n",
            "\u001b[31m✖\u001b[39m \u001b[34mdplyr\u001b[39m::\u001b[32mlag()\u001b[39m    masks \u001b[34mstats\u001b[39m::lag()\n",
            "\u001b[36mℹ\u001b[39m Use the conflicted package (\u001b[3m\u001b[34m<http://conflicted.r-lib.org/>\u001b[39m\u001b[23m) to force all conflicts to become errors\n"
          ]
        }
      ],
      "source": [
        "library(tidyverse)\n",
        "#library(tidymodels)\n",
        "#library(agua)"
      ]
    },
    {
      "cell_type": "code",
      "source": [
        "data <- read_csv(\"https://online.stat.psu.edu/stat857/sites/onlinecourses.science.psu.edu.stat857/files/german_credit/index.csv\")\n",
        "glimpse(data)"
      ],
      "metadata": {
        "colab": {
          "base_uri": "https://localhost:8080/"
        },
        "id": "FJTsCt44_PCy",
        "outputId": "18161fb7-1abc-4c0a-e53c-24bcd25d7384"
      },
      "execution_count": 7,
      "outputs": [
        {
          "output_type": "stream",
          "name": "stderr",
          "text": [
            "\u001b[1mRows: \u001b[22m\u001b[34m1000\u001b[39m \u001b[1mColumns: \u001b[22m\u001b[34m21\u001b[39m\n",
            "\u001b[36m──\u001b[39m \u001b[1mColumn specification\u001b[22m \u001b[36m────────────────────────────────────────────────────────\u001b[39m\n",
            "\u001b[1mDelimiter:\u001b[22m \",\"\n",
            "\u001b[32mdbl\u001b[39m (21): Creditability, Account Balance, Duration of Credit (month), Paymen...\n",
            "\n",
            "\u001b[36mℹ\u001b[39m Use `spec()` to retrieve the full column specification for this data.\n",
            "\u001b[36mℹ\u001b[39m Specify the column types or set `show_col_types = FALSE` to quiet this message.\n"
          ]
        },
        {
          "output_type": "stream",
          "name": "stdout",
          "text": [
            "Rows: 1,000\n",
            "Columns: 21\n",
            "$ Creditability                       \u001b[3m\u001b[90m<dbl>\u001b[39m\u001b[23m 1, 1, 1, 1, 1, 1, 1, 1, 1, 1, 1, 1…\n",
            "$ `Account Balance`                   \u001b[3m\u001b[90m<dbl>\u001b[39m\u001b[23m 1, 1, 2, 1, 1, 1, 1, 1, 4, 2, 1, 1…\n",
            "$ `Duration of Credit (month)`        \u001b[3m\u001b[90m<dbl>\u001b[39m\u001b[23m 18, 9, 12, 12, 12, 10, 8, 6, 18, 2…\n",
            "$ `Payment Status of Previous Credit` \u001b[3m\u001b[90m<dbl>\u001b[39m\u001b[23m 4, 4, 2, 4, 4, 4, 4, 4, 4, 2, 4, 4…\n",
            "$ Purpose                             \u001b[3m\u001b[90m<dbl>\u001b[39m\u001b[23m 2, 0, 9, 0, 0, 0, 0, 0, 3, 3, 0, 1…\n",
            "$ `Credit Amount`                     \u001b[3m\u001b[90m<dbl>\u001b[39m\u001b[23m 1049, 2799, 841, 2122, 2171, 2241,…\n",
            "$ `Value Savings/Stocks`              \u001b[3m\u001b[90m<dbl>\u001b[39m\u001b[23m 1, 1, 2, 1, 1, 1, 1, 1, 1, 3, 1, 2…\n",
            "$ `Length of current employment`      \u001b[3m\u001b[90m<dbl>\u001b[39m\u001b[23m 2, 3, 4, 3, 3, 2, 4, 2, 1, 1, 3, 4…\n",
            "$ `Instalment per cent`               \u001b[3m\u001b[90m<dbl>\u001b[39m\u001b[23m 4, 2, 2, 3, 4, 1, 1, 2, 4, 1, 2, 1…\n",
            "$ `Sex & Marital Status`              \u001b[3m\u001b[90m<dbl>\u001b[39m\u001b[23m 2, 3, 2, 3, 3, 3, 3, 3, 2, 2, 3, 4…\n",
            "$ Guarantors                          \u001b[3m\u001b[90m<dbl>\u001b[39m\u001b[23m 1, 1, 1, 1, 1, 1, 1, 1, 1, 1, 1, 1…\n",
            "$ `Duration in Current address`       \u001b[3m\u001b[90m<dbl>\u001b[39m\u001b[23m 4, 2, 4, 2, 4, 3, 4, 4, 4, 4, 2, 4…\n",
            "$ `Most valuable available asset`     \u001b[3m\u001b[90m<dbl>\u001b[39m\u001b[23m 2, 1, 1, 1, 2, 1, 1, 1, 3, 4, 1, 3…\n",
            "$ `Age (years)`                       \u001b[3m\u001b[90m<dbl>\u001b[39m\u001b[23m 21, 36, 23, 39, 38, 48, 39, 40, 65…\n",
            "$ `Concurrent Credits`                \u001b[3m\u001b[90m<dbl>\u001b[39m\u001b[23m 3, 3, 3, 3, 1, 3, 3, 3, 3, 3, 3, 3…\n",
            "$ `Type of apartment`                 \u001b[3m\u001b[90m<dbl>\u001b[39m\u001b[23m 1, 1, 1, 1, 2, 1, 2, 2, 2, 1, 1, 1…\n",
            "$ `No of Credits at this Bank`        \u001b[3m\u001b[90m<dbl>\u001b[39m\u001b[23m 1, 2, 1, 2, 2, 2, 2, 1, 2, 1, 2, 2…\n",
            "$ Occupation                          \u001b[3m\u001b[90m<dbl>\u001b[39m\u001b[23m 3, 3, 2, 2, 2, 2, 2, 2, 1, 1, 3, 3…\n",
            "$ `No of dependents`                  \u001b[3m\u001b[90m<dbl>\u001b[39m\u001b[23m 1, 2, 1, 2, 1, 2, 1, 2, 1, 1, 2, 1…\n",
            "$ Telephone                           \u001b[3m\u001b[90m<dbl>\u001b[39m\u001b[23m 1, 1, 1, 1, 1, 1, 1, 1, 1, 1, 1, 1…\n",
            "$ `Foreign Worker`                    \u001b[3m\u001b[90m<dbl>\u001b[39m\u001b[23m 1, 1, 1, 2, 2, 2, 2, 2, 1, 1, 1, 1…\n"
          ]
        }
      ]
    },
    {
      "cell_type": "code",
      "source": [
        "data %>% rename(\n",
        "  checking_balance = `Account Balance`,\n",
        "  months_loan_duration = `Duration of Credit (month)`,\n",
        "  credit_history = `Payment Status of Previous Credit`,\n",
        "  purpose = Purpose,\n",
        "  amount = `Credit Amount`,\n",
        "  savings_balance = `Value Savings/Stocks`,\n",
        "  employment_duration = `Length of current employment`,\n",
        "  percent_of_income = `Instalment per cent`,\n",
        "  sex_m = `Sex & Marital Status`,\n",
        "  years_at_residence = `Duration in Current address`,\n",
        "  asset = `Most valuable available asset`,\n",
        "  age = `Age (years)`,\n",
        "  other_credit = `Concurrent Credits`,\n",
        "  housing = `Type of apartment`,\n",
        "  existing_loans_count = `No of Credits at this Bank`,\n",
        "  job = Occupation,\n",
        "  dependents = `No of dependents`,\n",
        "  phone = Telephone,\n",
        "  foreign = `Foreign Worker`,\n",
        "  default = Creditability) %>%\n",
        "  mutate(across(c(checking_balance, credit_history, purpose, savings_balance, employment_duration, asset, sex_m, other_credit, housing, job, phone, default), as.factor)) %>% mutate(across(c(months_loan_duration, amount, percent_of_income, years_at_residence, age, existing_loans_count, dependents), as.integer)) %>%\n",
        "  select(-c(phone))-> data2"
      ],
      "metadata": {
        "id": "o1_CtSn_AYVN"
      },
      "execution_count": 8,
      "outputs": []
    },
    {
      "cell_type": "code",
      "source": [
        "# Download Java Virtual Machine (JVM)\n",
        "system(\"apt-get install openjdk-8-jdk-headless -qq > /dev/null\")\n",
        "\n",
        "# Download Spark\n",
        "system(\"wget -q https://dlcdn.apache.org/spark/spark-3.4.2/spark-3.4.2-bin-hadoop3.tgz\")\n",
        "\n",
        "# Unzip the file\n",
        "system(\"tar -xzf spark-3.4.2-bin-hadoop3.tgz\")\n",
        "\n",
        "# setup the environment for spark\n",
        "Sys.setenv(JAVA_HOME = \"/usr/lib/jvm/java-8-openjdk-amd64\")\n",
        "Sys.setenv(SPARK_HOME = \"/content/spark-3.4.2-bin-hadoop3\")\n",
        "\n",
        "install.packages(\"sparklyr\")\n",
        "\n",
        "install.packages(\"arrow\") # optional but recommended for speed boosts"
      ],
      "metadata": {
        "colab": {
          "base_uri": "https://localhost:8080/"
        },
        "id": "bG9hCL20Arbp",
        "outputId": "e336039b-4c0c-4661-8b6d-0505adc3f462"
      },
      "execution_count": 10,
      "outputs": [
        {
          "output_type": "stream",
          "name": "stderr",
          "text": [
            "Installing package into ‘/usr/local/lib/R/site-library’\n",
            "(as ‘lib’ is unspecified)\n",
            "\n",
            "also installing the dependencies ‘config’, ‘globals’\n",
            "\n",
            "\n",
            "Installing package into ‘/usr/local/lib/R/site-library’\n",
            "(as ‘lib’ is unspecified)\n",
            "\n",
            "also installing the dependency ‘assertthat’\n",
            "\n",
            "\n"
          ]
        }
      ]
    },
    {
      "cell_type": "code",
      "source": [
        "library(SparkR, lib.loc = c(file.path(Sys.getenv(\"SPARK_HOME\"), \"R\", \"lib\")))\n",
        "sparkR.session(master = \"local[*]\", sparkConfig = list(spark.driver.memory = \"2g\"))"
      ],
      "metadata": {
        "id": "xL4Y68VnAtCT"
      },
      "execution_count": null,
      "outputs": []
    },
    {
      "cell_type": "code",
      "source": [
        "Generar un modelo haciendo tuning\n",
        "\n",
        "1. Cargar los datos y librerías\n",
        "2. Dividir los datos en entrenamiento y validación\n",
        "3. Dividir los datos en Folds para contruir los modelos con tuning\n",
        "4. Arquitectura el modelo\n",
        "4.5 -Al definir el grid se identifican los parámetros a aplicar el tuning\n",
        "5. Aplicar transformación dentro del pipeline o workflow\n",
        "6. Ajustar modelos\n",
        "7. Seleccionar el mejor modelo\n",
        "\n",
        "8. Entrenar el modelo final\n",
        "9. Evaluar el modelo final"
      ],
      "metadata": {
        "id": "OiEVwzofCy1q"
      },
      "execution_count": null,
      "outputs": []
    }
  ]
}