{
  "nbformat": 4,
  "nbformat_minor": 0,
  "metadata": {
    "colab": {
      "provenance": []
    },
    "kernelspec": {
      "name": "ir",
      "display_name": "R"
    },
    "language_info": {
      "name": "R"
    }
  },
  "cells": [
    {
      "cell_type": "code",
      "execution_count": null,
      "metadata": {
        "id": "46KEyi3WxWAA"
      },
      "outputs": [],
      "source": [
        "system(\"pip install mlflow\")"
      ]
    },
    {
      "cell_type": "code",
      "source": [
        "devtools::install_github(\"mlflow/mlflow\", subdir = \"mlflow/R/mlflow\")"
      ],
      "metadata": {
        "colab": {
          "base_uri": "https://localhost:8080/"
        },
        "id": "qhToEkaixf8b",
        "outputId": "1480fae7-fbd0-4756-dedb-d638a7d4d1aa"
      },
      "execution_count": null,
      "outputs": [
        {
          "output_type": "stream",
          "name": "stderr",
          "text": [
            "Downloading GitHub repo mlflow/mlflow@HEAD\n",
            "\n",
            "'/usr/bin/git' clone --depth 1 --no-hardlinks --recurse-submodules https://github.com/mlflow/recipes-examples.git /tmp/Rtmpf9IBiL/remotes1fd68c02215/mlflow-mlflow-1ad9148/mlflow/R/mlflow/../../../examples/recipes\n",
            "\n"
          ]
        },
        {
          "output_type": "stream",
          "name": "stdout",
          "text": [
            "Rcpp     (NA    -> 1.0.12) [CRAN]\n",
            "later    (NA    -> 1.3.2 ) [CRAN]\n",
            "openssl  (2.0.6 -> 2.1.1 ) [CRAN]\n",
            "curl     (5.0.2 -> 5.2.1 ) [CRAN]\n",
            "promises (NA    -> 1.2.1 ) [CRAN]\n",
            "zeallot  (NA    -> 0.1.0 ) [CRAN]\n",
            "swagger  (NA    -> 3.33.1) [CRAN]\n",
            "processx (3.8.3 -> 3.8.4 ) [CRAN]\n",
            "httpuv   (NA    -> 1.6.15) [CRAN]\n",
            "git2r    (NA    -> 0.33.0) [CRAN]\n",
            "forge    (NA    -> 0.2.0 ) [CRAN]\n"
          ]
        },
        {
          "output_type": "stream",
          "name": "stderr",
          "text": [
            "Installing 11 packages: Rcpp, later, openssl, curl, promises, zeallot, swagger, processx, httpuv, git2r, forge\n",
            "\n",
            "Installing packages into ‘/usr/local/lib/R/site-library’\n",
            "(as ‘lib’ is unspecified)\n",
            "\n"
          ]
        },
        {
          "output_type": "stream",
          "name": "stdout",
          "text": [
            "\u001b[36m──\u001b[39m \u001b[36mR CMD build\u001b[39m \u001b[36m─────────────────────────────────────────────────────────────────\u001b[39m\n",
            "* checking for file ‘/tmp/Rtmpf9IBiL/remotes1fd68c02215/mlflow-mlflow-1ad9148/mlflow/R/mlflow/DESCRIPTION’ ... OK\n",
            "* preparing ‘mlflow’:\n",
            "* checking DESCRIPTION meta-information ... OK\n",
            "* checking for LF line-endings in source and make files and shell scripts\n",
            "* checking for empty or unneeded directories\n",
            "Removed empty directory ‘mlflow/man-roxygen’\n",
            "* building ‘mlflow_2.11.4.tar.gz’\n",
            "\n"
          ]
        },
        {
          "output_type": "stream",
          "name": "stderr",
          "text": [
            "Installing package into ‘/usr/local/lib/R/site-library’\n",
            "(as ‘lib’ is unspecified)\n",
            "\n"
          ]
        }
      ]
    },
    {
      "cell_type": "code",
      "source": [
        "install.packages(\"mlflow\")\n",
        "#install.packages(\"tidymodels\")\n",
        "install.packages(\"tidyverse\")\n",
        "install.packages(\"rpart.plot\")\n",
        "install.packages(\"carrier\")"
      ],
      "metadata": {
        "colab": {
          "base_uri": "https://localhost:8080/"
        },
        "id": "RBOzeGMrxlP4",
        "outputId": "6b4e9420-1cdd-4641-d0b5-f9661c4fa63b"
      },
      "execution_count": null,
      "outputs": [
        {
          "output_type": "stream",
          "name": "stderr",
          "text": [
            "Installing package into ‘/usr/local/lib/R/site-library’\n",
            "(as ‘lib’ is unspecified)\n",
            "\n",
            "Installing package into ‘/usr/local/lib/R/site-library’\n",
            "(as ‘lib’ is unspecified)\n",
            "\n",
            "Installing package into ‘/usr/local/lib/R/site-library’\n",
            "(as ‘lib’ is unspecified)\n",
            "\n",
            "Installing package into ‘/usr/local/lib/R/site-library’\n",
            "(as ‘lib’ is unspecified)\n",
            "\n",
            "also installing the dependency ‘lobstr’\n",
            "\n",
            "\n"
          ]
        }
      ]
    },
    {
      "cell_type": "code",
      "source": [
        "library(mlflow)\n",
        "#library(tidymodels)\n",
        "library(tidyverse)\n",
        "library(rpart.plot)\n",
        "library(carrier)\n"
      ],
      "metadata": {
        "colab": {
          "base_uri": "https://localhost:8080/"
        },
        "id": "rTm_qcVAxprP",
        "outputId": "7f622c69-5c16-41e0-e6bd-86b42b984c41"
      },
      "execution_count": null,
      "outputs": [
        {
          "output_type": "stream",
          "name": "stderr",
          "text": [
            "── \u001b[1mAttaching core tidyverse packages\u001b[22m ──────────────────────── tidyverse 2.0.0 ──\n",
            "\u001b[32m✔\u001b[39m \u001b[34mdplyr    \u001b[39m 1.1.4     \u001b[32m✔\u001b[39m \u001b[34mreadr    \u001b[39m 2.1.5\n",
            "\u001b[32m✔\u001b[39m \u001b[34mforcats  \u001b[39m 1.0.0     \u001b[32m✔\u001b[39m \u001b[34mstringr  \u001b[39m 1.5.1\n",
            "\u001b[32m✔\u001b[39m \u001b[34mggplot2  \u001b[39m 3.4.4     \u001b[32m✔\u001b[39m \u001b[34mtibble   \u001b[39m 3.2.1\n",
            "\u001b[32m✔\u001b[39m \u001b[34mlubridate\u001b[39m 1.9.3     \u001b[32m✔\u001b[39m \u001b[34mtidyr    \u001b[39m 1.3.1\n",
            "\u001b[32m✔\u001b[39m \u001b[34mpurrr    \u001b[39m 1.0.2     \n",
            "── \u001b[1mConflicts\u001b[22m ────────────────────────────────────────── tidyverse_conflicts() ──\n",
            "\u001b[31m✖\u001b[39m \u001b[34mdplyr\u001b[39m::\u001b[32mfilter()\u001b[39m masks \u001b[34mstats\u001b[39m::filter()\n",
            "\u001b[31m✖\u001b[39m \u001b[34mdplyr\u001b[39m::\u001b[32mlag()\u001b[39m    masks \u001b[34mstats\u001b[39m::lag()\n",
            "\u001b[36mℹ\u001b[39m Use the conflicted package (\u001b[3m\u001b[34m<http://conflicted.r-lib.org/>\u001b[39m\u001b[23m) to force all conflicts to become errors\n",
            "Loading required package: rpart\n",
            "\n"
          ]
        }
      ]
    },
    {
      "cell_type": "code",
      "source": [
        "install.packages(\"rsample\")\n",
        "library(rsample)\n",
        "install.packages(\"recipes\")\n",
        "library(recipes)\n",
        "install.packages(\"parsnip\")\n",
        "library(parsnip)\n",
        "install.packages(\"workflows\")\n",
        "library(workflows)\n",
        "install.packages(\"tune\")\n",
        "library(tune)\n",
        "install.packages(\"magrittr\")\n",
        "library(magrittr)"
      ],
      "metadata": {
        "colab": {
          "base_uri": "https://localhost:8080/"
        },
        "id": "aVUaZ4an1ZAO",
        "outputId": "11358396-d126-41fe-c047-36bd476a4182"
      },
      "execution_count": null,
      "outputs": [
        {
          "output_type": "stream",
          "name": "stderr",
          "text": [
            "Installing package into ‘/usr/local/lib/R/site-library’\n",
            "(as ‘lib’ is unspecified)\n",
            "\n",
            "also installing the dependencies ‘listenv’, ‘parallelly’, ‘future’, ‘globals’, ‘warp’, ‘furrr’, ‘slider’\n",
            "\n",
            "\n",
            "Installing package into ‘/usr/local/lib/R/site-library’\n",
            "(as ‘lib’ is unspecified)\n",
            "\n",
            "also installing the dependencies ‘shape’, ‘future.apply’, ‘numDeriv’, ‘progressr’, ‘SQUAREM’, ‘diagram’, ‘lava’, ‘prodlim’, ‘clock’, ‘gower’, ‘hardhat’, ‘ipred’, ‘timeDate’\n",
            "\n",
            "\n",
            "\n",
            "Attaching package: ‘recipes’\n",
            "\n",
            "\n",
            "The following object is masked from ‘package:stringr’:\n",
            "\n",
            "    fixed\n",
            "\n",
            "\n",
            "The following object is masked from ‘package:stats’:\n",
            "\n",
            "    step\n",
            "\n",
            "\n",
            "Installing package into ‘/usr/local/lib/R/site-library’\n",
            "(as ‘lib’ is unspecified)\n",
            "\n",
            "Installing package into ‘/usr/local/lib/R/site-library’\n",
            "(as ‘lib’ is unspecified)\n",
            "\n",
            "also installing the dependency ‘modelenv’\n",
            "\n",
            "\n",
            "Installing package into ‘/usr/local/lib/R/site-library’\n",
            "(as ‘lib’ is unspecified)\n",
            "\n",
            "also installing the dependencies ‘DiceDesign’, ‘iterators’, ‘lhs’, ‘dials’, ‘doFuture’, ‘foreach’, ‘GPfit’, ‘yardstick’\n",
            "\n",
            "\n",
            "Installing package into ‘/usr/local/lib/R/site-library’\n",
            "(as ‘lib’ is unspecified)\n",
            "\n",
            "\n",
            "Attaching package: ‘magrittr’\n",
            "\n",
            "\n",
            "The following object is masked from ‘package:purrr’:\n",
            "\n",
            "    set_names\n",
            "\n",
            "\n",
            "The following object is masked from ‘package:tidyr’:\n",
            "\n",
            "    extract\n",
            "\n",
            "\n"
          ]
        }
      ]
    },
    {
      "cell_type": "code",
      "source": [
        "install.packages(\"yardstick\")\n",
        "library(yardstick)"
      ],
      "metadata": {
        "colab": {
          "base_uri": "https://localhost:8080/"
        },
        "id": "xSCAjFLd5Pvh",
        "outputId": "369c20ed-eb70-4048-c8ef-3ec714437070"
      },
      "execution_count": null,
      "outputs": [
        {
          "output_type": "stream",
          "name": "stderr",
          "text": [
            "Installing package into ‘/usr/local/lib/R/site-library’\n",
            "(as ‘lib’ is unspecified)\n",
            "\n",
            "\n",
            "Attaching package: ‘yardstick’\n",
            "\n",
            "\n",
            "The following object is masked from ‘package:readr’:\n",
            "\n",
            "    spec\n",
            "\n",
            "\n"
          ]
        }
      ]
    },
    {
      "cell_type": "code",
      "source": [
        "mlflow_set_tracking_uri(\"http://40.78.109.4:80\")\n"
      ],
      "metadata": {
        "id": "pWujkatOxva1"
      },
      "execution_count": null,
      "outputs": []
    },
    {
      "cell_type": "code",
      "source": [
        "mlflow_set_experiment(\"CreditClassification\")"
      ],
      "metadata": {
        "colab": {
          "base_uri": "https://localhost:8080/",
          "height": 34
        },
        "id": "16p_bVctymSS",
        "outputId": "3a53184b-3529-41b2-ac9e-588113e51d84"
      },
      "execution_count": null,
      "outputs": [
        {
          "output_type": "display_data",
          "data": {
            "text/html": [
              "'17'"
            ],
            "text/markdown": "'17'",
            "text/latex": "'17'",
            "text/plain": [
              "[1] \"17\""
            ]
          },
          "metadata": {}
        }
      ]
    },
    {
      "cell_type": "code",
      "source": [
        "# Start mlflow run\n",
        "run <- mlflow_start_run()\n"
      ],
      "metadata": {
        "colab": {
          "base_uri": "https://localhost:8080/"
        },
        "id": "s_xr7VPqyjIa",
        "outputId": "cc2f1d9a-4d4d-4db5-d86c-f06da3cb4771"
      },
      "execution_count": null,
      "outputs": [
        {
          "output_type": "stream",
          "name": "stderr",
          "text": [
            "Warning message:\n",
            "“\u001b[1m\u001b[22m`as_integer()` is deprecated as of rlang 0.4.0\n",
            "Please use `vctrs::vec_cast()` instead.\n",
            "\u001b[90mThis warning is displayed once every 8 hours.\u001b[39m”\n"
          ]
        }
      ]
    },
    {
      "cell_type": "code",
      "source": [
        "# Get the run ID for the current run\n",
        "run_id <- run$run_uuid\n",
        "run_id"
      ],
      "metadata": {
        "colab": {
          "base_uri": "https://localhost:8080/",
          "height": 34
        },
        "id": "PTUVMOBfy6BC",
        "outputId": "891dcdc5-4879-45f9-80af-4f05081756d7"
      },
      "execution_count": null,
      "outputs": [
        {
          "output_type": "display_data",
          "data": {
            "text/html": [
              "'cdb63ba666a845459a0050708420003e'"
            ],
            "text/markdown": "'cdb63ba666a845459a0050708420003e'",
            "text/latex": "'cdb63ba666a845459a0050708420003e'",
            "text/plain": [
              "[1] \"cdb63ba666a845459a0050708420003e\""
            ]
          },
          "metadata": {}
        }
      ]
    },
    {
      "cell_type": "code",
      "source": [
        "# Get the run ID for the current run\n",
        "run_name <- run$run_name\n",
        "run_name"
      ],
      "metadata": {
        "colab": {
          "base_uri": "https://localhost:8080/",
          "height": 34
        },
        "id": "UoY8FwZVzNod",
        "outputId": "dae10f6c-2b90-4589-b4b1-cb7942fe4cbe"
      },
      "execution_count": null,
      "outputs": [
        {
          "output_type": "display_data",
          "data": {
            "text/html": [
              "'charming-mouse-84'"
            ],
            "text/markdown": "'charming-mouse-84'",
            "text/latex": "'charming-mouse-84'",
            "text/plain": [
              "[1] \"charming-mouse-84\""
            ]
          },
          "metadata": {}
        }
      ]
    },
    {
      "cell_type": "code",
      "source": [
        "data <- readr::read_csv(\"https://online.stat.psu.edu/stat857/sites/onlinecourses.science.psu.edu.stat857/files/german_credit/index.csv\")\n",
        "glimpse(data)"
      ],
      "metadata": {
        "id": "gT7sNXABzXH9"
      },
      "execution_count": null,
      "outputs": []
    },
    {
      "cell_type": "code",
      "source": [
        "data %>% rename(\n",
        "  checking_balance = `Account Balance`,\n",
        "  months_loan_duration = `Duration of Credit (month)`,\n",
        "  credit_history = `Payment Status of Previous Credit`,\n",
        "  purpose = Purpose,\n",
        "  amount = `Credit Amount`,\n",
        "  savings_balance = `Value Savings/Stocks`,\n",
        "  employment_duration = `Length of current employment`,\n",
        "  percent_of_income = `Instalment per cent`,\n",
        "  sex_m = `Sex & Marital Status`,\n",
        "  years_at_residence = `Duration in Current address`,\n",
        "  asset = `Most valuable available asset`,\n",
        "  age = `Age (years)`,\n",
        "  other_credit = `Concurrent Credits`,\n",
        "  housing = `Type of apartment`,\n",
        "  existing_loans_count = `No of Credits at this Bank`,\n",
        "  job = Occupation,\n",
        "  dependents = `No of dependents`,\n",
        "  phone = Telephone,\n",
        "  foreign = `Foreign Worker`,\n",
        "  default = Creditability) %>%\n",
        "  mutate(across(c(checking_balance, credit_history, purpose, savings_balance, employment_duration, asset, sex_m, other_credit, housing, job, phone, default), as.factor)) %>% mutate(across(c(months_loan_duration, amount, percent_of_income, years_at_residence, age, existing_loans_count, dependents), as.integer)) %>%\n",
        "  select(-c(phone))-> data2"
      ],
      "metadata": {
        "id": "y7KQBMNj0C1u"
      },
      "execution_count": null,
      "outputs": []
    },
    {
      "cell_type": "code",
      "source": [
        "data2 %>% slice(1:3)"
      ],
      "metadata": {
        "colab": {
          "base_uri": "https://localhost:8080/",
          "height": 210
        },
        "id": "T8sqXaVD4IoM",
        "outputId": "87d98372-5835-4245-cb69-bb1f72a75750"
      },
      "execution_count": null,
      "outputs": [
        {
          "output_type": "display_data",
          "data": {
            "text/html": [
              "<table class=\"dataframe\">\n",
              "<caption>A tibble: 3 × 20</caption>\n",
              "<thead>\n",
              "\t<tr><th scope=col>default</th><th scope=col>checking_balance</th><th scope=col>months_loan_duration</th><th scope=col>credit_history</th><th scope=col>purpose</th><th scope=col>amount</th><th scope=col>savings_balance</th><th scope=col>employment_duration</th><th scope=col>percent_of_income</th><th scope=col>sex_m</th><th scope=col>Guarantors</th><th scope=col>years_at_residence</th><th scope=col>asset</th><th scope=col>age</th><th scope=col>other_credit</th><th scope=col>housing</th><th scope=col>existing_loans_count</th><th scope=col>job</th><th scope=col>dependents</th><th scope=col>foreign</th></tr>\n",
              "\t<tr><th scope=col>&lt;fct&gt;</th><th scope=col>&lt;fct&gt;</th><th scope=col>&lt;int&gt;</th><th scope=col>&lt;fct&gt;</th><th scope=col>&lt;fct&gt;</th><th scope=col>&lt;int&gt;</th><th scope=col>&lt;fct&gt;</th><th scope=col>&lt;fct&gt;</th><th scope=col>&lt;int&gt;</th><th scope=col>&lt;fct&gt;</th><th scope=col>&lt;dbl&gt;</th><th scope=col>&lt;int&gt;</th><th scope=col>&lt;fct&gt;</th><th scope=col>&lt;int&gt;</th><th scope=col>&lt;fct&gt;</th><th scope=col>&lt;fct&gt;</th><th scope=col>&lt;int&gt;</th><th scope=col>&lt;fct&gt;</th><th scope=col>&lt;int&gt;</th><th scope=col>&lt;dbl&gt;</th></tr>\n",
              "</thead>\n",
              "<tbody>\n",
              "\t<tr><td>1</td><td>1</td><td>18</td><td>4</td><td>2</td><td>1049</td><td>1</td><td>2</td><td>4</td><td>2</td><td>1</td><td>4</td><td>2</td><td>21</td><td>3</td><td>1</td><td>1</td><td>3</td><td>1</td><td>1</td></tr>\n",
              "\t<tr><td>1</td><td>1</td><td> 9</td><td>4</td><td>0</td><td>2799</td><td>1</td><td>3</td><td>2</td><td>3</td><td>1</td><td>2</td><td>1</td><td>36</td><td>3</td><td>1</td><td>2</td><td>3</td><td>2</td><td>1</td></tr>\n",
              "\t<tr><td>1</td><td>2</td><td>12</td><td>2</td><td>9</td><td> 841</td><td>2</td><td>4</td><td>2</td><td>2</td><td>1</td><td>4</td><td>1</td><td>23</td><td>3</td><td>1</td><td>1</td><td>2</td><td>1</td><td>1</td></tr>\n",
              "</tbody>\n",
              "</table>\n"
            ],
            "text/markdown": "\nA tibble: 3 × 20\n\n| default &lt;fct&gt; | checking_balance &lt;fct&gt; | months_loan_duration &lt;int&gt; | credit_history &lt;fct&gt; | purpose &lt;fct&gt; | amount &lt;int&gt; | savings_balance &lt;fct&gt; | employment_duration &lt;fct&gt; | percent_of_income &lt;int&gt; | sex_m &lt;fct&gt; | Guarantors &lt;dbl&gt; | years_at_residence &lt;int&gt; | asset &lt;fct&gt; | age &lt;int&gt; | other_credit &lt;fct&gt; | housing &lt;fct&gt; | existing_loans_count &lt;int&gt; | job &lt;fct&gt; | dependents &lt;int&gt; | foreign &lt;dbl&gt; |\n|---|---|---|---|---|---|---|---|---|---|---|---|---|---|---|---|---|---|---|---|\n| 1 | 1 | 18 | 4 | 2 | 1049 | 1 | 2 | 4 | 2 | 1 | 4 | 2 | 21 | 3 | 1 | 1 | 3 | 1 | 1 |\n| 1 | 1 |  9 | 4 | 0 | 2799 | 1 | 3 | 2 | 3 | 1 | 2 | 1 | 36 | 3 | 1 | 2 | 3 | 2 | 1 |\n| 1 | 2 | 12 | 2 | 9 |  841 | 2 | 4 | 2 | 2 | 1 | 4 | 1 | 23 | 3 | 1 | 1 | 2 | 1 | 1 |\n\n",
            "text/latex": "A tibble: 3 × 20\n\\begin{tabular}{llllllllllllllllllll}\n default & checking\\_balance & months\\_loan\\_duration & credit\\_history & purpose & amount & savings\\_balance & employment\\_duration & percent\\_of\\_income & sex\\_m & Guarantors & years\\_at\\_residence & asset & age & other\\_credit & housing & existing\\_loans\\_count & job & dependents & foreign\\\\\n <fct> & <fct> & <int> & <fct> & <fct> & <int> & <fct> & <fct> & <int> & <fct> & <dbl> & <int> & <fct> & <int> & <fct> & <fct> & <int> & <fct> & <int> & <dbl>\\\\\n\\hline\n\t 1 & 1 & 18 & 4 & 2 & 1049 & 1 & 2 & 4 & 2 & 1 & 4 & 2 & 21 & 3 & 1 & 1 & 3 & 1 & 1\\\\\n\t 1 & 1 &  9 & 4 & 0 & 2799 & 1 & 3 & 2 & 3 & 1 & 2 & 1 & 36 & 3 & 1 & 2 & 3 & 2 & 1\\\\\n\t 1 & 2 & 12 & 2 & 9 &  841 & 2 & 4 & 2 & 2 & 1 & 4 & 1 & 23 & 3 & 1 & 1 & 2 & 1 & 1\\\\\n\\end{tabular}\n",
            "text/plain": [
              "  default checking_balance months_loan_duration credit_history purpose amount\n",
              "1 1       1                18                   4              2       1049  \n",
              "2 1       1                 9                   4              0       2799  \n",
              "3 1       2                12                   2              9        841  \n",
              "  savings_balance employment_duration percent_of_income sex_m Guarantors\n",
              "1 1               2                   4                 2     1         \n",
              "2 1               3                   2                 3     1         \n",
              "3 2               4                   2                 2     1         \n",
              "  years_at_residence asset age other_credit housing existing_loans_count job\n",
              "1 4                  2     21  3            1       1                    3  \n",
              "2 2                  1     36  3            1       2                    3  \n",
              "3 4                  1     23  3            1       1                    2  \n",
              "  dependents foreign\n",
              "1 1          1      \n",
              "2 2          1      \n",
              "3 1          1      "
            ]
          },
          "metadata": {}
        }
      ]
    },
    {
      "cell_type": "code",
      "source": [
        "# Dividir los datos en conjuntos de entrenamiento y prueba\n",
        "set.seed(1353)\n",
        "# Put 3/4 of the data into the training set\n",
        "data_split <- initial_split(data2, prop = 3/4)\n",
        "\n",
        "# Create data frames for the two sets:\n",
        "data_train <- training(data_split)\n",
        "data_test  <- testing(data_split)"
      ],
      "metadata": {
        "id": "SH2FlDQe0NR1"
      },
      "execution_count": null,
      "outputs": []
    },
    {
      "cell_type": "code",
      "source": [
        "# Diferentes técnicas cada quien la suya\n",
        "# AUC\n",
        "show_engines(\"logistic_reg\")"
      ],
      "metadata": {
        "colab": {
          "base_uri": "https://localhost:8080/",
          "height": 314
        },
        "id": "3XlwP44-1QTF",
        "outputId": "e7e55948-da97-4429-b4f9-10033e7448c0"
      },
      "execution_count": null,
      "outputs": [
        {
          "output_type": "display_data",
          "data": {
            "text/html": [
              "<table class=\"dataframe\">\n",
              "<caption>A tibble: 7 × 2</caption>\n",
              "<thead>\n",
              "\t<tr><th scope=col>engine</th><th scope=col>mode</th></tr>\n",
              "\t<tr><th scope=col>&lt;chr&gt;</th><th scope=col>&lt;chr&gt;</th></tr>\n",
              "</thead>\n",
              "<tbody>\n",
              "\t<tr><td>glm      </td><td>classification</td></tr>\n",
              "\t<tr><td>glmnet   </td><td>classification</td></tr>\n",
              "\t<tr><td>LiblineaR</td><td>classification</td></tr>\n",
              "\t<tr><td>spark    </td><td>classification</td></tr>\n",
              "\t<tr><td>keras    </td><td>classification</td></tr>\n",
              "\t<tr><td>stan     </td><td>classification</td></tr>\n",
              "\t<tr><td>brulee   </td><td>classification</td></tr>\n",
              "</tbody>\n",
              "</table>\n"
            ],
            "text/markdown": "\nA tibble: 7 × 2\n\n| engine &lt;chr&gt; | mode &lt;chr&gt; |\n|---|---|\n| glm       | classification |\n| glmnet    | classification |\n| LiblineaR | classification |\n| spark     | classification |\n| keras     | classification |\n| stan      | classification |\n| brulee    | classification |\n\n",
            "text/latex": "A tibble: 7 × 2\n\\begin{tabular}{ll}\n engine & mode\\\\\n <chr> & <chr>\\\\\n\\hline\n\t glm       & classification\\\\\n\t glmnet    & classification\\\\\n\t LiblineaR & classification\\\\\n\t spark     & classification\\\\\n\t keras     & classification\\\\\n\t stan      & classification\\\\\n\t brulee    & classification\\\\\n\\end{tabular}\n",
            "text/plain": [
              "  engine    mode          \n",
              "1 glm       classification\n",
              "2 glmnet    classification\n",
              "3 LiblineaR classification\n",
              "4 spark     classification\n",
              "5 keras     classification\n",
              "6 stan      classification\n",
              "7 brulee    classification"
            ]
          },
          "metadata": {}
        }
      ]
    },
    {
      "cell_type": "code",
      "source": [
        "#1. specify model type\n",
        "model <- logistic_reg() |>\n",
        "  set_engine(\"glm\")"
      ],
      "metadata": {
        "id": "XOpTUQN73WVK"
      },
      "execution_count": null,
      "outputs": []
    },
    {
      "cell_type": "code",
      "source": [
        "#2. specify the role of each variable\n",
        "rec <- recipe(default ~ checking_balance + months_loan_duration + credit_history, data = data_train)"
      ],
      "metadata": {
        "id": "9IIe_-qT3qnT"
      },
      "execution_count": null,
      "outputs": []
    },
    {
      "cell_type": "code",
      "source": [
        "#3. combine the 2 in a workflow\n",
        "wkflow <- workflow() |>\n",
        "  add_model(model) |>\n",
        "  add_recipe(rec)"
      ],
      "metadata": {
        "id": "-2QwksxV3zc4"
      },
      "execution_count": null,
      "outputs": []
    },
    {
      "cell_type": "code",
      "source": [
        "#4. fit the model to the data\n",
        "model_fit <- wkflow |>\n",
        "  fit(data = data_train)"
      ],
      "metadata": {
        "id": "x5DkamYK4eea"
      },
      "execution_count": null,
      "outputs": []
    },
    {
      "cell_type": "code",
      "source": [
        "# predict the outcome using the model\n",
        "df_preds <- model_fit |>\n",
        "  augment(new_data = data_train)"
      ],
      "metadata": {
        "id": "uZeb3agV4nWJ"
      },
      "execution_count": null,
      "outputs": []
    },
    {
      "cell_type": "code",
      "source": [
        "df_preds %>% slice(1:3)"
      ],
      "metadata": {
        "colab": {
          "base_uri": "https://localhost:8080/",
          "height": 210
        },
        "id": "DIUT8i3g4uNl",
        "outputId": "9a721316-8f72-4ec2-c8bb-31bd71c2dfd4"
      },
      "execution_count": null,
      "outputs": [
        {
          "output_type": "display_data",
          "data": {
            "text/html": [
              "<table class=\"dataframe\">\n",
              "<caption>A tibble: 3 × 23</caption>\n",
              "<thead>\n",
              "\t<tr><th scope=col>.pred_class</th><th scope=col>.pred_0</th><th scope=col>.pred_1</th><th scope=col>default</th><th scope=col>checking_balance</th><th scope=col>months_loan_duration</th><th scope=col>credit_history</th><th scope=col>purpose</th><th scope=col>amount</th><th scope=col>savings_balance</th><th scope=col>⋯</th><th scope=col>Guarantors</th><th scope=col>years_at_residence</th><th scope=col>asset</th><th scope=col>age</th><th scope=col>other_credit</th><th scope=col>housing</th><th scope=col>existing_loans_count</th><th scope=col>job</th><th scope=col>dependents</th><th scope=col>foreign</th></tr>\n",
              "\t<tr><th scope=col>&lt;fct&gt;</th><th scope=col>&lt;dbl&gt;</th><th scope=col>&lt;dbl&gt;</th><th scope=col>&lt;fct&gt;</th><th scope=col>&lt;fct&gt;</th><th scope=col>&lt;int&gt;</th><th scope=col>&lt;fct&gt;</th><th scope=col>&lt;fct&gt;</th><th scope=col>&lt;int&gt;</th><th scope=col>&lt;fct&gt;</th><th scope=col>⋯</th><th scope=col>&lt;dbl&gt;</th><th scope=col>&lt;int&gt;</th><th scope=col>&lt;fct&gt;</th><th scope=col>&lt;int&gt;</th><th scope=col>&lt;fct&gt;</th><th scope=col>&lt;fct&gt;</th><th scope=col>&lt;int&gt;</th><th scope=col>&lt;fct&gt;</th><th scope=col>&lt;int&gt;</th><th scope=col>&lt;dbl&gt;</th></tr>\n",
              "</thead>\n",
              "<tbody>\n",
              "\t<tr><td>0</td><td>0.6247297</td><td>0.3752703</td><td>0</td><td>1</td><td>12</td><td>1</td><td>3</td><td>2149</td><td>1</td><td>⋯</td><td>1</td><td>1</td><td>4</td><td>29</td><td>3</td><td>3</td><td>1</td><td>3</td><td>1</td><td>1</td></tr>\n",
              "\t<tr><td>1</td><td>0.1247675</td><td>0.8752325</td><td>1</td><td>4</td><td>22</td><td>2</td><td>3</td><td>2675</td><td>3</td><td>⋯</td><td>1</td><td>4</td><td>3</td><td>40</td><td>3</td><td>2</td><td>1</td><td>3</td><td>1</td><td>1</td></tr>\n",
              "\t<tr><td>1</td><td>0.2039192</td><td>0.7960808</td><td>1</td><td>4</td><td>39</td><td>2</td><td>1</td><td>2569</td><td>3</td><td>⋯</td><td>1</td><td>4</td><td>3</td><td>24</td><td>3</td><td>2</td><td>1</td><td>3</td><td>1</td><td>1</td></tr>\n",
              "</tbody>\n",
              "</table>\n"
            ],
            "text/markdown": "\nA tibble: 3 × 23\n\n| .pred_class &lt;fct&gt; | .pred_0 &lt;dbl&gt; | .pred_1 &lt;dbl&gt; | default &lt;fct&gt; | checking_balance &lt;fct&gt; | months_loan_duration &lt;int&gt; | credit_history &lt;fct&gt; | purpose &lt;fct&gt; | amount &lt;int&gt; | savings_balance &lt;fct&gt; | ⋯ ⋯ | Guarantors &lt;dbl&gt; | years_at_residence &lt;int&gt; | asset &lt;fct&gt; | age &lt;int&gt; | other_credit &lt;fct&gt; | housing &lt;fct&gt; | existing_loans_count &lt;int&gt; | job &lt;fct&gt; | dependents &lt;int&gt; | foreign &lt;dbl&gt; |\n|---|---|---|---|---|---|---|---|---|---|---|---|---|---|---|---|---|---|---|---|---|\n| 0 | 0.6247297 | 0.3752703 | 0 | 1 | 12 | 1 | 3 | 2149 | 1 | ⋯ | 1 | 1 | 4 | 29 | 3 | 3 | 1 | 3 | 1 | 1 |\n| 1 | 0.1247675 | 0.8752325 | 1 | 4 | 22 | 2 | 3 | 2675 | 3 | ⋯ | 1 | 4 | 3 | 40 | 3 | 2 | 1 | 3 | 1 | 1 |\n| 1 | 0.2039192 | 0.7960808 | 1 | 4 | 39 | 2 | 1 | 2569 | 3 | ⋯ | 1 | 4 | 3 | 24 | 3 | 2 | 1 | 3 | 1 | 1 |\n\n",
            "text/latex": "A tibble: 3 × 23\n\\begin{tabular}{lllllllllllllllllllll}\n .pred\\_class & .pred\\_0 & .pred\\_1 & default & checking\\_balance & months\\_loan\\_duration & credit\\_history & purpose & amount & savings\\_balance & ⋯ & Guarantors & years\\_at\\_residence & asset & age & other\\_credit & housing & existing\\_loans\\_count & job & dependents & foreign\\\\\n <fct> & <dbl> & <dbl> & <fct> & <fct> & <int> & <fct> & <fct> & <int> & <fct> & ⋯ & <dbl> & <int> & <fct> & <int> & <fct> & <fct> & <int> & <fct> & <int> & <dbl>\\\\\n\\hline\n\t 0 & 0.6247297 & 0.3752703 & 0 & 1 & 12 & 1 & 3 & 2149 & 1 & ⋯ & 1 & 1 & 4 & 29 & 3 & 3 & 1 & 3 & 1 & 1\\\\\n\t 1 & 0.1247675 & 0.8752325 & 1 & 4 & 22 & 2 & 3 & 2675 & 3 & ⋯ & 1 & 4 & 3 & 40 & 3 & 2 & 1 & 3 & 1 & 1\\\\\n\t 1 & 0.2039192 & 0.7960808 & 1 & 4 & 39 & 2 & 1 & 2569 & 3 & ⋯ & 1 & 4 & 3 & 24 & 3 & 2 & 1 & 3 & 1 & 1\\\\\n\\end{tabular}\n",
            "text/plain": [
              "  .pred_class .pred_0   .pred_1   default checking_balance months_loan_duration\n",
              "1 0           0.6247297 0.3752703 0       1                12                  \n",
              "2 1           0.1247675 0.8752325 1       4                22                  \n",
              "3 1           0.2039192 0.7960808 1       4                39                  \n",
              "  credit_history purpose amount savings_balance ⋯ Guarantors years_at_residence\n",
              "1 1              3       2149   1               ⋯ 1          1                 \n",
              "2 2              3       2675   3               ⋯ 1          4                 \n",
              "3 2              1       2569   3               ⋯ 1          4                 \n",
              "  asset age other_credit housing existing_loans_count job dependents foreign\n",
              "1 4     29  3            3       1                    3   1          1      \n",
              "2 3     40  3            2       1                    3   1          1      \n",
              "3 3     24  3            2       1                    3   1          1      "
            ]
          },
          "metadata": {}
        }
      ]
    },
    {
      "cell_type": "code",
      "source": [
        "roc_auc(df_preds, truth = default, .pred_0) -> result\n",
        "result$.estimate"
      ],
      "metadata": {
        "colab": {
          "base_uri": "https://localhost:8080/",
          "height": 34
        },
        "id": "OJWrdAyJ5BMd",
        "outputId": "49e5b12b-a62a-411b-8266-2ad103ff68d6"
      },
      "execution_count": null,
      "outputs": [
        {
          "output_type": "display_data",
          "data": {
            "text/html": [
              "0.769181151548072"
            ],
            "text/markdown": "0.769181151548072",
            "text/latex": "0.769181151548072",
            "text/plain": [
              "[1] 0.7691812"
            ]
          },
          "metadata": {}
        }
      ]
    },
    {
      "cell_type": "code",
      "source": [
        "perf <- metric_set(accuracy,\n",
        "                   sensitivity,\n",
        "                   specificity,\n",
        "                   mcc,\n",
        "                   precision,\n",
        "                   recall)\n",
        "perf(df_preds, truth = default, estimate = .pred_class) -> res_perf"
      ],
      "metadata": {
        "id": "jI6Z9e-n4yjy"
      },
      "execution_count": null,
      "outputs": []
    },
    {
      "cell_type": "code",
      "source": [
        "res_perf %>% filter(.metric== \"accuracy\") -> filtrado\n",
        "filtrado$.estimate\n",
        "mlflow_log_metric(\"accuracy\", filtrado$.estimate)"
      ],
      "metadata": {
        "colab": {
          "base_uri": "https://localhost:8080/",
          "height": 34
        },
        "id": "DnOei1UJ7KBY",
        "outputId": "e669a999-919b-413e-ff09-e7a42c8c4a56"
      },
      "execution_count": null,
      "outputs": [
        {
          "output_type": "display_data",
          "data": {
            "text/html": [
              "0.750666666666667"
            ],
            "text/markdown": "0.750666666666667",
            "text/latex": "0.750666666666667",
            "text/plain": [
              "[1] 0.7506667"
            ]
          },
          "metadata": {}
        }
      ]
    },
    {
      "cell_type": "code",
      "source": [
        "res_perf %>% filter(.metric== \"sensitivity\") -> filtrado\n",
        "filtrado$.estimate\n",
        "mlflow_log_metric(\"sensitivity\", filtrado$.estimate)"
      ],
      "metadata": {
        "colab": {
          "base_uri": "https://localhost:8080/",
          "height": 34
        },
        "id": "oMIWVUTM7oBA",
        "outputId": "4228b21f-3926-43fc-e5a1-6f9426f10b39"
      },
      "execution_count": null,
      "outputs": [
        {
          "output_type": "display_data",
          "data": {
            "text/html": [
              "0.339285714285714"
            ],
            "text/markdown": "0.339285714285714",
            "text/latex": "0.339285714285714",
            "text/plain": [
              "[1] 0.3392857"
            ]
          },
          "metadata": {}
        }
      ]
    },
    {
      "cell_type": "code",
      "source": [
        "res_perf %>% filter(.metric== \"specificity\") -> filtrado\n",
        "filtrado$.estimate\n",
        "mlflow_log_metric(\"specificity\", filtrado$.estimate)"
      ],
      "metadata": {
        "colab": {
          "base_uri": "https://localhost:8080/",
          "height": 34
        },
        "id": "B6ULClHI7n0C",
        "outputId": "344bf626-b4ff-499b-81a7-36f14532e761"
      },
      "execution_count": null,
      "outputs": [
        {
          "output_type": "display_data",
          "data": {
            "text/html": [
              "0.925855513307985"
            ],
            "text/markdown": "0.925855513307985",
            "text/latex": "0.925855513307985",
            "text/plain": [
              "[1] 0.9258555"
            ]
          },
          "metadata": {}
        }
      ]
    },
    {
      "cell_type": "code",
      "source": [
        "res_perf %>% filter(.metric== \"mcc\") -> filtrado\n",
        "filtrado$.estimate\n",
        "mlflow_log_metric(\"mcc\", filtrado$.estimate)"
      ],
      "metadata": {
        "colab": {
          "base_uri": "https://localhost:8080/",
          "height": 34
        },
        "id": "Sk-T9DIZ7nme",
        "outputId": "be1fd042-06c2-4e0d-f879-8ec451e5cae9"
      },
      "execution_count": null,
      "outputs": [
        {
          "output_type": "display_data",
          "data": {
            "text/html": [
              "0.33678935885195"
            ],
            "text/markdown": "0.33678935885195",
            "text/latex": "0.33678935885195",
            "text/plain": [
              "[1] 0.3367894"
            ]
          },
          "metadata": {}
        }
      ]
    },
    {
      "cell_type": "code",
      "source": [
        "res_perf %>% filter(.metric== \"precision\") -> filtrado\n",
        "filtrado$.estimate\n",
        "mlflow_log_metric(\"precision\", filtrado$.estimate)"
      ],
      "metadata": {
        "colab": {
          "base_uri": "https://localhost:8080/",
          "height": 34
        },
        "id": "VnURnfuS7lB0",
        "outputId": "c1c59af9-6cf7-4731-b5fc-265d22ebd0bf"
      },
      "execution_count": null,
      "outputs": [
        {
          "output_type": "display_data",
          "data": {
            "text/html": [
              "0.660869565217391"
            ],
            "text/markdown": "0.660869565217391",
            "text/latex": "0.660869565217391",
            "text/plain": [
              "[1] 0.6608696"
            ]
          },
          "metadata": {}
        }
      ]
    },
    {
      "cell_type": "code",
      "source": [
        "res_perf %>% filter(.metric== \"recall\") -> filtrado\n",
        "filtrado$.estimate\n",
        "mlflow_log_metric(\"recall\", filtrado$.estimate)"
      ],
      "metadata": {
        "colab": {
          "base_uri": "https://localhost:8080/",
          "height": 34
        },
        "id": "XCcqFZvr66E_",
        "outputId": "eccb6683-278c-49b6-d952-8c1cc06226a8"
      },
      "execution_count": null,
      "outputs": [
        {
          "output_type": "display_data",
          "data": {
            "text/html": [
              "0.339285714285714"
            ],
            "text/markdown": "0.339285714285714",
            "text/latex": "0.339285714285714",
            "text/plain": [
              "[1] 0.3392857"
            ]
          },
          "metadata": {}
        }
      ]
    },
    {
      "cell_type": "code",
      "source": [
        "mlflow_log_metric(\"roc_auc\", result$.estimate)"
      ],
      "metadata": {
        "colab": {
          "base_uri": "https://localhost:8080/"
        },
        "id": "Npl01mk45uCn",
        "outputId": "69e3f3a6-c6bc-4b1f-84dd-2657f7b97819"
      },
      "execution_count": null,
      "outputs": [
        {
          "output_type": "stream",
          "name": "stderr",
          "text": [
            "Warning message:\n",
            "“\u001b[1m\u001b[22m`as_double()` is deprecated as of rlang 0.4.0\n",
            "Please use `vctrs::vec_cast()` instead.\n",
            "\u001b[90mThis warning is displayed once every 8 hours.\u001b[39m”\n"
          ]
        }
      ]
    },
    {
      "cell_type": "code",
      "source": [
        "# Create a crate model\n",
        "crate_model <- crate(\n",
        "  function(new_obs)  stats::predict(model_fit, new_obs),\n",
        "  model_fit = model_fit\n",
        ")\n"
      ],
      "metadata": {
        "id": "DwWUYZzJIVXb"
      },
      "execution_count": null,
      "outputs": []
    },
    {
      "cell_type": "code",
      "source": [
        "# Log the model with mlflow_log_model()\n",
        "mlflow_log_model(model = crate_model, artifact_path = \"model\", flavor = \"crate\")\n"
      ],
      "metadata": {
        "id": "v4cr_JjxIr6o",
        "outputId": "f5017a29-d33a-4009-aa32-1b7a1d191c3b",
        "colab": {
          "base_uri": "https://localhost:8080/",
          "height": 210
        }
      },
      "execution_count": null,
      "outputs": [
        {
          "output_type": "stream",
          "name": "stdout",
          "text": [
            "\u001b[31m2024/04/01 14:49:28 INFO mlflow.store.artifact.cli: Logged artifact from local dir /tmp/Rtmpf9IBiL/model to artifact_path=model\n",
            "\u001b[39m"
          ]
        },
        {
          "output_type": "stream",
          "name": "stderr",
          "text": [
            "Root URI: mlflow-artifacts:/17/cdb63ba666a845459a0050708420003e/artifacts\n",
            "\n"
          ]
        },
        {
          "output_type": "display_data",
          "data": {
            "text/html": [
              "<table class=\"dataframe\">\n",
              "<caption>A tibble: 2 × 3</caption>\n",
              "<thead>\n",
              "\t<tr><th scope=col>path</th><th scope=col>is_dir</th><th scope=col>file_size</th></tr>\n",
              "\t<tr><th scope=col>&lt;chr&gt;</th><th scope=col>&lt;lgl&gt;</th><th scope=col>&lt;int&gt;</th></tr>\n",
              "</thead>\n",
              "<tbody>\n",
              "\t<tr><td>model/MLmodel  </td><td>FALSE</td><td>  165</td></tr>\n",
              "\t<tr><td>model/crate.bin</td><td>FALSE</td><td>58728</td></tr>\n",
              "</tbody>\n",
              "</table>\n"
            ],
            "text/markdown": "\nA tibble: 2 × 3\n\n| path &lt;chr&gt; | is_dir &lt;lgl&gt; | file_size &lt;int&gt; |\n|---|---|---|\n| model/MLmodel   | FALSE |   165 |\n| model/crate.bin | FALSE | 58728 |\n\n",
            "text/latex": "A tibble: 2 × 3\n\\begin{tabular}{lll}\n path & is\\_dir & file\\_size\\\\\n <chr> & <lgl> & <int>\\\\\n\\hline\n\t model/MLmodel   & FALSE &   165\\\\\n\t model/crate.bin & FALSE & 58728\\\\\n\\end{tabular}\n",
            "text/plain": [
              "  path            is_dir file_size\n",
              "1 model/MLmodel   FALSE    165    \n",
              "2 model/crate.bin FALSE  58728    "
            ]
          },
          "metadata": {}
        }
      ]
    }
  ]
}